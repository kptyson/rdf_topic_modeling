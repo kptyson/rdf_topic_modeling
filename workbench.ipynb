{
 "cells": [
  {
   "cell_type": "code",
   "execution_count": 30,
   "metadata": {
    "collapsed": true
   },
   "outputs": [],
   "source": [
    "\n",
    "import pandas as pd\n",
    "import gensim\n",
    "from sklearn.feature_extraction.text import CountVectorizer\n",
    "import logging\n",
    "logging.basicConfig(format='%(asctime)s : %(levelname)s : %(message)s', level=logging.ERROR)\n",
    "\n",
    "import warnings\n",
    "warnings.filterwarnings(\"ignore\",category=DeprecationWarning)"
   ]
  },
  {
   "cell_type": "code",
   "execution_count": 31,
   "outputs": [],
   "source": [
    "documents = pd.read_csv('corpus.csv')\n",
    "documents.dropna(inplace=True)"
   ],
   "metadata": {
    "collapsed": false,
    "pycharm": {
     "name": "#%%\n"
    }
   }
  },
  {
   "cell_type": "code",
   "execution_count": 32,
   "outputs": [],
   "source": [
    "# Use CountVectorizor to find three letter tokens, remove stop_words,\n",
    "# remove tokens that don't appear in at least 20 documents,\n",
    "# remove tokens that appear in more than 20% of the documents\n",
    "vect = CountVectorizer(min_df=20, max_df=0.2, stop_words='english',\n",
    "                       token_pattern='(?u)\\\\b\\\\w\\\\w\\\\w+\\\\b')\n",
    "# Fit and transform\n",
    "X = vect.fit_transform(documents.text)\n",
    "\n",
    "# Convert sparse matrix to gensim corpus.\n",
    "corpus = gensim.matutils.Sparse2Corpus(X, documents_columns=False)\n",
    "\n",
    "# Mapping from word IDs to words (To be used in LdaModel's id2word parameter)\n",
    "id_map = dict((v, k) for k, v in vect.vocabulary_.items())\n",
    "\n",
    "\n",
    "# Use the gensim.models.ldamodel.LdaModel constructor to estimate\n",
    "# LDA model parameters on the corpus, and save to the variable `ldamodel`\n",
    "\n",
    "ldamodel = gensim.models.LdaMulticore(corpus=corpus, id2word=id_map, passes=2,\n",
    "                                               random_state=5, num_topics=25, workers=4)"
   ],
   "metadata": {
    "collapsed": false,
    "pycharm": {
     "name": "#%%\n"
    }
   }
  },
  {
   "cell_type": "code",
   "execution_count": 33,
   "outputs": [
    {
     "name": "stdout",
     "output_type": "stream",
     "text": [
      "Topic: 0 \n",
      "Words: 0.107*\"business\" + 0.062*\"center\" + 0.043*\"code\" + 0.039*\"international\" + 0.036*\"fibo\" + 0.032*\"fpml\" + 0.029*\"ontology\" + 0.017*\"value\" + 0.014*\"fbc\" + 0.012*\"economic\"\n",
      "\n",
      "\n",
      "Topic: 1 \n",
      "Words: 0.046*\"government\" + 0.029*\"republic\" + 0.019*\"jurisdiction\" + 0.019*\"court\" + 0.018*\"time\" + 0.014*\"ontology\" + 0.012*\"shares\" + 0.012*\"courts\" + 0.012*\"concept\" + 0.011*\"constitutional\"\n",
      "\n",
      "\n",
      "Topic: 2 \n",
      "Words: 0.039*\"banks\" + 0.038*\"rate\" + 0.037*\"reference\" + 0.037*\"swap\" + 0.027*\"trust\" + 0.024*\"street\" + 0.023*\"annual\" + 0.023*\"state\" + 0.022*\"terms\" + 0.016*\"specific\"\n",
      "\n",
      "\n",
      "Topic: 3 \n",
      "Words: 0.077*\"share\" + 0.040*\"issuer\" + 0.038*\"registered\" + 0.032*\"preferred\" + 0.028*\"income\" + 0.028*\"provides\" + 0.027*\"confers\" + 0.024*\"option\" + 0.023*\"periodic\" + 0.022*\"common\"\n",
      "\n",
      "\n",
      "Topic: 4 \n",
      "Words: 0.100*\"exchange\" + 0.058*\"stock\" + 0.052*\"markets\" + 0.029*\"state\" + 0.028*\"europe\" + 0.023*\"unit\" + 0.021*\"cboe\" + 0.016*\"sovereign\" + 0.016*\"market\" + 0.016*\"equities\"\n",
      "\n",
      "\n",
      "Topic: 5 \n",
      "Words: 0.031*\"format\" + 0.030*\"lei\" + 0.024*\"party\" + 0.022*\"data\" + 0.020*\"cdf\" + 0.018*\"registration\" + 0.016*\"business\" + 0.015*\"gleif\" + 0.014*\"common\" + 0.013*\"pool\"\n",
      "\n",
      "\n",
      "Topic: 6 \n",
      "Words: 0.097*\"isda\" + 0.090*\"definitions\" + 0.062*\"rate\" + 0.059*\"date\" + 0.055*\"transaction\" + 0.054*\"options\" + 0.050*\"parties\" + 0.048*\"section\" + 0.047*\"relevant\" + 0.046*\"2006\"\n",
      "\n",
      "\n",
      "Topic: 7 \n",
      "Words: 0.226*\"www\" + 0.209*\"http\" + 0.143*\"com\" + 0.037*\"entity\" + 0.024*\"legal\" + 0.018*\"org\" + 0.016*\"https\" + 0.016*\"registry\" + 0.015*\"identifier\" + 0.014*\"omg\"\n",
      "\n",
      "\n",
      "Topic: 8 \n",
      "Words: 0.046*\"market\" + 0.038*\"derivatives\" + 0.022*\"nasdaq\" + 0.015*\"reporting\" + 0.014*\"limited\" + 0.012*\"statistics\" + 0.012*\"swaps\" + 0.012*\"identifier\" + 0.011*\"level\" + 0.010*\"ats\"\n",
      "\n",
      "\n",
      "Topic: 9 \n",
      "Words: 0.054*\"copyright\" + 0.032*\"date\" + 0.031*\"2021\" + 0.029*\"council\" + 0.029*\"group\" + 0.029*\"edm\" + 0.028*\"management\" + 0.025*\"object\" + 0.025*\"2020\" + 0.020*\"event\"\n",
      "\n",
      "\n",
      "Topic: 10 \n",
      "Words: 0.055*\"financial\" + 0.042*\"bank\" + 0.025*\"instruments\" + 0.022*\"securities\" + 0.020*\"account\" + 0.017*\"national\" + 0.013*\"association\" + 0.013*\"instrument\" + 0.012*\"investment\" + 0.011*\"common\"\n",
      "\n",
      "\n",
      "Topic: 11 \n",
      "Words: 0.063*\"index\" + 0.056*\"fpml\" + 0.055*\"floating\" + 0.030*\"market\" + 0.025*\"ois\" + 0.023*\"usd\" + 0.023*\"compound\" + 0.022*\"systematic\" + 0.022*\"internaliser\" + 0.016*\"securities\"\n",
      "\n",
      "\n",
      "Topic: 12 \n",
      "Words: 0.057*\"exchange\" + 0.043*\"jurisdiction\" + 0.036*\"rate\" + 0.031*\"trading\" + 0.028*\"swap\" + 0.023*\"commodity\" + 0.017*\"treasury\" + 0.015*\"annual\" + 0.014*\"financial\" + 0.012*\"securities\"\n",
      "\n",
      "\n",
      "Topic: 13 \n",
      "Words: 0.039*\"llc\" + 0.034*\"address\" + 0.024*\"mtf\" + 0.016*\"partners\" + 0.016*\"headquarters\" + 0.016*\"bolsa\" + 0.013*\"stock\" + 0.013*\"exchange\" + 0.012*\"industrial\" + 0.012*\"commitment\"\n",
      "\n",
      "\n",
      "Topic: 14 \n",
      "Words: 0.033*\"voting\" + 0.031*\"share\" + 0.028*\"registered\" + 0.026*\"preferred\" + 0.022*\"currency\" + 0.022*\"agreement\" + 0.017*\"contract\" + 0.017*\"redeemable\" + 0.017*\"party\" + 0.014*\"terms\"\n",
      "\n",
      "\n",
      "Topic: 15 \n",
      "Words: 0.097*\"ontology\" + 0.084*\"org\" + 0.084*\"fibo\" + 0.067*\"spec\" + 0.067*\"https\" + 0.059*\"edmcouncil\" + 0.038*\"rdf\" + 0.035*\"fnd\" + 0.033*\"version\" + 0.021*\"modified\"\n",
      "\n",
      "\n",
      "Topic: 16 \n",
      "Words: 0.045*\"org\" + 0.044*\"www\" + 0.037*\"price\" + 0.035*\"https\" + 0.035*\"individual\" + 0.031*\"representing\" + 0.024*\"regional\" + 0.023*\"reference\" + 0.020*\"quick\" + 0.020*\"owl2\"\n",
      "\n",
      "\n",
      "Topic: 17 \n",
      "Words: 0.181*\"market\" + 0.134*\"identifier\" + 0.117*\"level\" + 0.068*\"operating\" + 0.046*\"segment\" + 0.041*\"internaliser\" + 0.040*\"systematic\" + 0.024*\"exchange\" + 0.019*\"bank\" + 0.010*\"stock\"\n",
      "\n",
      "\n",
      "Topic: 18 \n",
      "Words: 0.050*\"loan\" + 0.031*\"credit\" + 0.022*\"mortgage\" + 0.015*\"instrument\" + 0.014*\"month\" + 0.014*\"debt\" + 0.014*\"duration\" + 0.012*\"cdo\" + 0.011*\"pool\" + 0.011*\"quantity\"\n",
      "\n",
      "\n",
      "Topic: 19 \n",
      "Words: 0.018*\"legal\" + 0.017*\"person\" + 0.016*\"contract\" + 0.015*\"specified\" + 0.013*\"date\" + 0.011*\"jurisdiction\" + 0.009*\"court\" + 0.009*\"individual\" + 0.008*\"state\" + 0.008*\"obligation\"\n",
      "\n",
      "\n",
      "Topic: 20 \n",
      "Words: 0.033*\"icap\" + 0.032*\"swap\" + 0.029*\"bloomberg\" + 0.024*\"nyse\" + 0.021*\"libor\" + 0.021*\"eur\" + 0.018*\"module\" + 0.017*\"asset\" + 0.016*\"used\" + 0.015*\"metadata\"\n",
      "\n",
      "\n",
      "Topic: 21 \n",
      "Words: 0.037*\"bond\" + 0.020*\"index\" + 0.019*\"payment\" + 0.016*\"security\" + 0.014*\"entity\" + 0.014*\"time\" + 0.013*\"underlying\" + 0.013*\"terms\" + 0.012*\"based\" + 0.011*\"type\"\n",
      "\n",
      "\n",
      "Topic: 22 \n",
      "Words: 0.026*\"concepts\" + 0.025*\"business\" + 0.023*\"ontology\" + 0.021*\"module\" + 0.020*\"ontologies\" + 0.019*\"financial\" + 0.016*\"domain\" + 0.015*\"industry\" + 0.015*\"organization\" + 0.014*\"including\"\n",
      "\n",
      "\n",
      "Topic: 23 \n",
      "Words: 0.021*\"securities\" + 0.018*\"market\" + 0.018*\"new\" + 0.015*\"exchange\" + 0.015*\"identification\" + 0.014*\"iso\" + 0.014*\"prebon\" + 0.014*\"tullett\" + 0.014*\"form\" + 0.013*\"otf\"\n",
      "\n",
      "\n",
      "Topic: 24 \n",
      "Words: 0.028*\"federal\" + 0.026*\"reserve\" + 0.023*\"bank\" + 0.015*\"rate\" + 0.015*\"district\" + 0.013*\"holding\" + 0.012*\"day\" + 0.011*\"equity\" + 0.011*\"strike\" + 0.010*\"ontology\"\n",
      "\n",
      "\n"
     ]
    }
   ],
   "source": [
    "for idx, topic in ldamodel.print_topics(-1):\n",
    "    print(\"Topic: {} \\nWords: {}\".format(idx, topic))\n",
    "    print(\"\\n\")\n"
   ],
   "metadata": {
    "collapsed": false,
    "pycharm": {
     "name": "#%%\n"
    }
   }
  },
  {
   "cell_type": "code",
   "execution_count": 34,
   "outputs": [
    {
     "data": {
      "text/plain": "'a municipal security is typically a bond, note, warrant, certificate or other similar obligation issued by a state or local government or their agencies or authorities (such as cities, towns, villages, counties or special districts or authorities).  a prime feature of most municipal securities is that interest or other investment earnings on them are generally excluded from gross income of the bondholder for federal income tax purposes. some municipal securities are subject to federal income tax, although the issuers or bondholders may receive other federal tax advantages for certain types of taxable municipal securities. some examples include build america bonds, municipal fund securities and direct pay subsidy bonds.'"
     },
     "execution_count": 34,
     "metadata": {},
     "output_type": "execute_result"
    }
   ],
   "source": [
    "my_document = documents.text[2]\n",
    "my_document\n"
   ],
   "metadata": {
    "collapsed": false,
    "pycharm": {
     "name": "#%%\n"
    }
   }
  },
  {
   "cell_type": "code",
   "execution_count": 35,
   "outputs": [],
   "source": [
    "def topic_distribution(string_input):\n",
    "    string_input = [string_input]\n",
    "    # Fit and transform\n",
    "    X = vect.transform(string_input)\n",
    "\n",
    "    # Convert sparse matrix to gensim corpus.\n",
    "    corpus = gensim.matutils.Sparse2Corpus(X, documents_columns=False)\n",
    "\n",
    "    output = list(ldamodel[corpus])[0]\n",
    "\n",
    "    return output\n",
    "\n"
   ],
   "metadata": {
    "collapsed": false,
    "pycharm": {
     "name": "#%%\n"
    }
   }
  },
  {
   "cell_type": "code",
   "execution_count": 36,
   "outputs": [],
   "source": [
    "def topic_prediction(my_document):\n",
    "    string_input = [my_document]\n",
    "    X = vect.transform(string_input)\n",
    "    # Convert sparse matrix to gensim corpus.\n",
    "    corpus = gensim.matutils.Sparse2Corpus(X, documents_columns=False)\n",
    "    output = list(ldamodel[corpus])[0]\n",
    "    topics = sorted(output,key=lambda x:x[1],reverse=True)\n",
    "    return topics[0][0]"
   ],
   "metadata": {
    "collapsed": false,
    "pycharm": {
     "name": "#%%\n"
    }
   }
  },
  {
   "cell_type": "code",
   "execution_count": 37,
   "outputs": [
    {
     "data": {
      "text/plain": "19"
     },
     "execution_count": 37,
     "metadata": {},
     "output_type": "execute_result"
    }
   ],
   "source": [
    "topic_prediction(my_document)\n",
    "\n"
   ],
   "metadata": {
    "collapsed": false,
    "pycharm": {
     "name": "#%%\n"
    }
   }
  },
  {
   "cell_type": "code",
   "execution_count": 38,
   "outputs": [
    {
     "data": {
      "text/plain": "[(3, 0.08708604), (19, 0.7585633), (24, 0.13805251)]"
     },
     "execution_count": 38,
     "metadata": {},
     "output_type": "execute_result"
    }
   ],
   "source": [
    "\n",
    "topic_distribution(my_document)"
   ],
   "metadata": {
    "collapsed": false,
    "pycharm": {
     "name": "#%%\n"
    }
   }
  }
 ],
 "metadata": {
  "kernelspec": {
   "display_name": "Python 3",
   "language": "python",
   "name": "python3"
  },
  "language_info": {
   "codemirror_mode": {
    "name": "ipython",
    "version": 2
   },
   "file_extension": ".py",
   "mimetype": "text/x-python",
   "name": "python",
   "nbconvert_exporter": "python",
   "pygments_lexer": "ipython2",
   "version": "2.7.6"
  }
 },
 "nbformat": 4,
 "nbformat_minor": 0
}