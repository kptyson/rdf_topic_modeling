{
 "cells": [
  {
   "cell_type": "code",
   "execution_count": 1,
   "outputs": [
    {
     "data": {
      "text/plain": "<IPython.core.display.HTML object>",
      "text/html": "<pre></pre>"
     },
     "metadata": {},
     "output_type": "display_data"
    }
   ],
   "source": [
    "%load_ext autotime\n",
    "\n"
   ],
   "metadata": {
    "collapsed": false,
    "pycharm": {
     "name": "#%%\n"
    }
   }
  },
  {
   "cell_type": "code",
   "execution_count": 2,
   "metadata": {
    "collapsed": true
   },
   "outputs": [
    {
     "data": {
      "text/plain": "<IPython.core.display.HTML object>",
      "text/html": "<pre></pre>"
     },
     "metadata": {},
     "output_type": "display_data"
    }
   ],
   "source": [
    "\n",
    "from rdflib import Graph, URIRef, Literal, OWL, RDF, RDFS, SKOS\n",
    "import pandas as pd\n",
    "import gensim\n",
    "from sklearn.feature_extraction.text import CountVectorizer\n",
    "import logging\n",
    "logging.basicConfig(format='%(asctime)s : %(levelname)s : %(message)s', level=logging.ERROR)\n",
    "\n",
    "import warnings\n",
    "warnings.filterwarnings(\"ignore\",category=DeprecationWarning)"
   ]
  },
  {
   "cell_type": "code",
   "execution_count": 3,
   "outputs": [
    {
     "data": {
      "text/plain": "<IPython.core.display.HTML object>",
      "text/html": "<pre></pre>"
     },
     "metadata": {},
     "output_type": "display_data"
    }
   ],
   "source": [
    "# ew = pd.ExcelWriter('FIBO_topic_model.xlsx')"
   ],
   "metadata": {
    "collapsed": false,
    "pycharm": {
     "name": "#%%\n"
    }
   }
  },
  {
   "cell_type": "code",
   "execution_count": 4,
   "outputs": [
    {
     "data": {
      "text/plain": "<IPython.core.display.HTML object>",
      "text/html": "<pre></pre>"
     },
     "metadata": {},
     "output_type": "display_data"
    }
   ],
   "source": [
    "g = Graph(base=URIRef('https://www.industrialsemantics.com/fibo'))\n",
    "g.bind('topics', URIRef('https://www.industrialsemantics.com/fibo/topics#'))\n",
    "g.bind('inst', URIRef('https://www.industrialsemantics.com/fibo/topics/instance#'))\n",
    "g.bind('class', URIRef('https://www.industrialsemantics.com/fibo/topics/class#'))\n",
    "g.bind('owl', OWL)\n",
    "g.bind('rdf', RDF)\n",
    "g.bind('rdfs', RDFS)\n",
    "g.bind('skos', SKOS)"
   ],
   "metadata": {
    "collapsed": false,
    "pycharm": {
     "name": "#%%\n"
    }
   }
  },
  {
   "cell_type": "code",
   "execution_count": 5,
   "outputs": [
    {
     "data": {
      "text/plain": "<IPython.core.display.HTML object>",
      "text/html": "<pre></pre>"
     },
     "metadata": {},
     "output_type": "display_data"
    }
   ],
   "source": [
    "documents = pd.read_csv('corpus.csv')\n",
    "documents.dropna(inplace=True)"
   ],
   "metadata": {
    "collapsed": false,
    "pycharm": {
     "name": "#%%\n"
    }
   }
  },
  {
   "cell_type": "code",
   "execution_count": 6,
   "outputs": [
    {
     "data": {
      "text/plain": "<IPython.core.display.HTML object>",
      "text/html": "<pre></pre>"
     },
     "metadata": {},
     "output_type": "display_data"
    }
   ],
   "source": [
    "# Use CountVectorizor to find three letter tokens, remove stop_words,\n",
    "# remove tokens that don't appear in at least 20 documents,\n",
    "# remove tokens that appear in more than 20% of the documents\n",
    "vect = CountVectorizer(min_df=20, max_df=0.2, stop_words='english',\n",
    "                       token_pattern='(?u)\\\\b\\\\w\\\\w\\\\w+\\\\b')\n",
    "# Fit and transform\n",
    "X = vect.fit_transform(documents.text)\n",
    "\n",
    "# Convert sparse matrix to gensim corpus.\n",
    "corpus = gensim.matutils.Sparse2Corpus(X, documents_columns=False)\n",
    "\n",
    "# Mapping from word IDs to words (To be used in LdaModel's id2word parameter)\n",
    "id_map = dict((v, k) for k, v in vect.vocabulary_.items())\n",
    "\n",
    "\n",
    "# Use the gensim.models.ldamodel.LdaModel constructor to estimate\n",
    "# LDA model parameters on the corpus, and save to the variable `ldamodel`\n",
    "\n",
    "ldamodel = gensim.models.LdaMulticore(corpus=corpus, id2word=id_map, passes=2,\n",
    "                                               random_state=5, num_topics=99, workers=16)"
   ],
   "metadata": {
    "collapsed": false,
    "pycharm": {
     "name": "#%%\n"
    }
   }
  },
  {
   "cell_type": "code",
   "execution_count": 7,
   "outputs": [
    {
     "data": {
      "text/plain": "<IPython.core.display.HTML object>",
      "text/html": "<pre></pre>"
     },
     "metadata": {},
     "output_type": "display_data"
    }
   ],
   "source": [
    "ew = pd.ExcelWriter('FIBO-topic-map.xlsx')"
   ],
   "metadata": {
    "collapsed": false,
    "pycharm": {
     "name": "#%%\n"
    }
   }
  },
  {
   "cell_type": "code",
   "execution_count": 8,
   "outputs": [
    {
     "data": {
      "text/plain": "<IPython.core.display.HTML object>",
      "text/html": "<pre></pre>"
     },
     "metadata": {},
     "output_type": "display_data"
    }
   ],
   "source": [
    "topic_list = list()\n",
    "\n",
    "for idx, topic in ldamodel.print_topics(-1):\n",
    "#    print(\"Topic: {} \\nWords: {}\".format(idx, topic))\n",
    "#    print(\"\\n\")\n",
    "    topic_list.append((idx, topic))\n",
    "    iri = URIRef('https://www.industrialsemantics.com/fibo/topics/class#Topic{i:06d}'.format(i=idx))\n",
    "    g.add((iri, RDF.type, OWL.Class))\n",
    "    g.add((iri, RDFS.label, Literal('{i:06d}'.format(i=idx))))\n",
    "    g.add((iri, RDFS.comment, Literal(topic)))\n",
    "\n",
    "\n",
    "topic_list_df = pd.DataFrame(topic_list, columns=['Topic_Index',\n",
    "                                                  'Words']).set_index(['Topic_Index'])\n",
    "topic_list_df.to_excel(ew, sheet_name='Topic List')\n"
   ],
   "metadata": {
    "collapsed": false,
    "pycharm": {
     "name": "#%%\n"
    }
   }
  },
  {
   "cell_type": "code",
   "execution_count": 9,
   "outputs": [
    {
     "data": {
      "text/plain": "<IPython.core.display.HTML object>",
      "text/html": "<pre></pre>"
     },
     "metadata": {},
     "output_type": "display_data"
    }
   ],
   "source": [
    "def topic_distribution(string_input):\n",
    "    string_input = [string_input]\n",
    "    # Fit and transform\n",
    "    X = vect.transform(string_input)\n",
    "\n",
    "    # Convert sparse matrix to gensim corpus.\n",
    "    corpus = gensim.matutils.Sparse2Corpus(X, documents_columns=False)\n",
    "\n",
    "    output = list(ldamodel[corpus])[0]\n",
    "\n",
    "    return output"
   ],
   "metadata": {
    "collapsed": false,
    "pycharm": {
     "name": "#%%\n"
    }
   }
  },
  {
   "cell_type": "code",
   "execution_count": 10,
   "outputs": [
    {
     "data": {
      "text/plain": "<IPython.core.display.HTML object>",
      "text/html": "<pre></pre>"
     },
     "metadata": {},
     "output_type": "display_data"
    }
   ],
   "source": [
    "def topic_prediction(my_document):\n",
    "    string_input = [my_document]\n",
    "    X = vect.transform(string_input)\n",
    "    # Convert sparse matrix to gensim corpus.\n",
    "    corpus = gensim.matutils.Sparse2Corpus(X, documents_columns=False)\n",
    "    output = list(ldamodel[corpus])[0]\n",
    "    topics = sorted(output,key=lambda x:x[1],reverse=True)\n",
    "    return topics[0][0]"
   ],
   "metadata": {
    "collapsed": false,
    "pycharm": {
     "name": "#%%\n"
    }
   }
  },
  {
   "cell_type": "code",
   "execution_count": 11,
   "outputs": [
    {
     "data": {
      "text/plain": "<IPython.core.display.HTML object>",
      "text/html": "<pre></pre>"
     },
     "metadata": {},
     "output_type": "display_data"
    }
   ],
   "source": [
    "topics = list()\n",
    "for i, r in documents.iterrows():\n",
    "    topics.append((r.iri, r.text, topic_prediction(r.text), topic_distribution(r.text) ))\n",
    "    topic_iri = URIRef('https://www.industrialsemantics.com/fibo/topics/class#Topic{i:06d}'.format(i=topic_prediction(r.text)))\n",
    "    g.add((URIRef(r.iri), RDF.type, topic_iri))\n",
    "    g.add((URIRef(r.iri), RDFS.label, Literal(r.text)))\n",
    "    g.add((URIRef(r.iri), RDFS.comment, Literal(topic_distribution(r.text))))\n",
    "    #\n",
    "    list_text = Literal(topic_distribution(r.text))[1:-1].replace(',','')\n",
    "    u = '''\n",
    "insert data {{ <{subject}> <{predicate}> ({list}) }}\n",
    "'''.format(subject=r.iri,\n",
    "           predicate=RDF.value,\n",
    "           list=list_text)\n",
    "    #print(u)\n",
    "    g.update(u)\n",
    "    #\n",
    "topics_df = pd.DataFrame(topics,\n",
    "                         columns=['IRI',\n",
    "                                  'Text',\n",
    "                                  'Predicated Topic',\n",
    "                                  'Topic Distribution']).set_index(['IRI'])\n",
    "# remove number only triples\n",
    "topics_df = topics_df[~topics_df.Text.str.contains('^[0-9]+$')]"
   ],
   "metadata": {
    "collapsed": false,
    "pycharm": {
     "name": "#%%\n"
    }
   }
  },
  {
   "cell_type": "code",
   "execution_count": 12,
   "outputs": [
    {
     "data": {
      "text/plain": "<IPython.core.display.HTML object>",
      "text/html": "<pre></pre>"
     },
     "metadata": {},
     "output_type": "display_data"
    }
   ],
   "source": [
    "g.serialize('FIBO_topic_map.ttl', format='ttl')\n"
   ],
   "metadata": {
    "collapsed": false,
    "pycharm": {
     "name": "#%%\n"
    }
   }
  },
  {
   "cell_type": "code",
   "execution_count": 13,
   "outputs": [
    {
     "data": {
      "text/plain": "<IPython.core.display.HTML object>",
      "text/html": "<pre></pre>"
     },
     "metadata": {},
     "output_type": "display_data"
    }
   ],
   "source": [
    "topics_df = topics_df.applymap(lambda x: x.encode('unicode_escape').\n",
    "                 decode('utf-8') if isinstance(x, str) else x)"
   ],
   "metadata": {
    "collapsed": false,
    "pycharm": {
     "name": "#%%\n"
    }
   }
  },
  {
   "cell_type": "code",
   "execution_count": 14,
   "outputs": [
    {
     "data": {
      "text/plain": "<IPython.core.display.HTML object>",
      "text/html": "<pre></pre>"
     },
     "metadata": {},
     "output_type": "display_data"
    }
   ],
   "source": [
    "topics_df.to_excel(ew, sheet_name='Topic Map')\n",
    "ew.close()"
   ],
   "metadata": {
    "collapsed": false,
    "pycharm": {
     "name": "#%%\n"
    }
   }
  },
  {
   "cell_type": "code",
   "execution_count": 15,
   "outputs": [
    {
     "data": {
      "text/plain": "<IPython.core.display.HTML object>",
      "text/html": "<pre></pre>"
     },
     "metadata": {},
     "output_type": "display_data"
    },
    {
     "name": "stdout",
     "output_type": "stream",
     "text": [
      "Done\n"
     ]
    }
   ],
   "source": [
    "print('Done')"
   ],
   "metadata": {
    "collapsed": false,
    "pycharm": {
     "name": "#%%\n"
    }
   }
  },
  {
   "cell_type": "code",
   "execution_count": 16,
   "outputs": [
    {
     "data": {
      "text/plain": "<IPython.core.display.HTML object>",
      "text/html": "<pre></pre>"
     },
     "metadata": {},
     "output_type": "display_data"
    }
   ],
   "source": [
    "topics_df.to_csv('temp.csv')"
   ],
   "metadata": {
    "collapsed": false,
    "pycharm": {
     "name": "#%%\n"
    }
   }
  }
 ],
 "metadata": {
  "kernelspec": {
   "display_name": "Python 3",
   "language": "python",
   "name": "python3"
  },
  "language_info": {
   "codemirror_mode": {
    "name": "ipython",
    "version": 2
   },
   "file_extension": ".py",
   "mimetype": "text/x-python",
   "name": "python",
   "nbconvert_exporter": "python",
   "pygments_lexer": "ipython2",
   "version": "2.7.6"
  }
 },
 "nbformat": 4,
 "nbformat_minor": 0
}